{
 "cells": [
  {
   "cell_type": "code",
   "execution_count": 2,
   "metadata": {},
   "outputs": [
    {
     "name": "stdout",
     "output_type": "stream",
     "text": [
      "Accuracy score with Logistic Regression = 0.7821229050279329\n",
      "Accuracy score with Cross Validation = 0.7980972790440938\n"
     ]
    }
   ],
   "source": [
    "# 9.1\n",
    "\n",
    "import numpy as np\n",
    "import pandas as pd\n",
    "import seaborn as sb\n",
    "import matplotlib.pyplot as plt\n",
    "import sklearn\n",
    "from pandas import Series, DataFrame\n",
    "from pylab import rcParams\n",
    "from sklearn import preprocessing\n",
    "from sklearn.linear_model import LogisticRegression\n",
    "from sklearn.cross_validation import train_test_split\n",
    "from sklearn import metrics #\n",
    "from sklearn.metrics import classification_report\n",
    "\n",
    "url='https://raw.githubusercontent.com/BigDataGal/Python-for-Data-Science/\\\n",
    "master/titanic-train.csv'\n",
    "titanic = pd.read_csv(url)\n",
    "titanic.columns =['PassengerId','Survived','Pclass','Name','Sex',\\\n",
    "                  'Age','SibSp','Parch','Ticket','Fare','Cabin','Embarked']\n",
    "\n",
    "X=titanic.iloc[:,[2,4,5,6,7,9]].values\n",
    "X=pd.DataFrame(X)\n",
    "X.columns = ('Pclass','Sex','Age','SibSp','Parch','Fare')\n",
    "y=titanic.iloc[:,1].values\n",
    "\n",
    "X.Age.fillna(X.Age.mean(), inplace=True)\n",
    "\n",
    "#encoding categorical data\n",
    "from sklearn.preprocessing import LabelEncoder\n",
    "labelencoder_X_1=LabelEncoder()\n",
    "X['Sex']=labelencoder_X_1.fit_transform(X['Sex'])\n",
    "\n",
    "X_train,X_test,y_train,y_test = train_test_split(X,y,test_size=0.2,random_state=0)\n",
    "\n",
    "# LogisticRegression\n",
    "lrclassifier=LogisticRegression(random_state=0)\n",
    "lrclassifier.fit(X_train,y_train)\n",
    "#lrscore1=lrclassifier.score(X_test, y_test)\n",
    "y_pred = lrclassifier.predict(X_test)\n",
    "\n",
    "# from sklearn.metrics import confusion_matrix,accuracy_score\n",
    "cm=metrics.confusion_matrix(y_test,y_pred)\n",
    "lrscore=metrics.accuracy_score(y_test,y_pred)\n",
    "print(\"Accuracy score with Logistic Regression = \"+ str(lrscore))\n",
    "\n",
    "from sklearn.model_selection import cross_val_score\n",
    "cvs = cross_val_score(LogisticRegression(),X,y,scoring = 'accuracy', cv = 15)\n",
    "print(\"Accuracy score with Cross Validation = \"+ str(cvs.mean()))\n"
   ]
  },
  {
   "cell_type": "code",
   "execution_count": null,
   "metadata": {},
   "outputs": [],
   "source": []
  }
 ],
 "metadata": {
  "kernelspec": {
   "display_name": "Python 3",
   "language": "python",
   "name": "python3"
  },
  "language_info": {
   "codemirror_mode": {
    "name": "ipython",
    "version": 3
   },
   "file_extension": ".py",
   "mimetype": "text/x-python",
   "name": "python",
   "nbconvert_exporter": "python",
   "pygments_lexer": "ipython3",
   "version": "3.6.5"
  }
 },
 "nbformat": 4,
 "nbformat_minor": 2
}
